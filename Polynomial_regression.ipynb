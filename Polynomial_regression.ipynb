{
  "nbformat": 4,
  "nbformat_minor": 0,
  "metadata": {
    "colab": {
      "name": "Polynomial regression.ipynb",
      "provenance": [],
      "collapsed_sections": [],
      "authorship_tag": "ABX9TyPRBareDRd70HH7IpZmszzS",
      "include_colab_link": true
    },
    "kernelspec": {
      "name": "python3",
      "display_name": "Python 3"
    },
    "language_info": {
      "name": "python"
    }
  },
  "cells": [
    {
      "cell_type": "markdown",
      "metadata": {
        "id": "view-in-github",
        "colab_type": "text"
      },
      "source": [
        "<a href=\"https://colab.research.google.com/github/coderanandmaurya/Linear-Regression/blob/main/Polynomial_regression.ipynb\" target=\"_parent\"><img src=\"https://colab.research.google.com/assets/colab-badge.svg\" alt=\"Open In Colab\"/></a>"
      ]
    },
    {
      "cell_type": "markdown",
      "source": [
        "# **Polynomial Regression**\n"
      ],
      "metadata": {
        "id": "-kd7VYCdqTzE"
      }
    },
    {
      "cell_type": "markdown",
      "source": [
        "- Polynomial Regression is a regression algorithm that models the relationship between a dependent(y) and independent variable(x) as nth degree polynomial. The Polynomial Regression equation is given below:\n",
        "\n",
        "  - **y= b0+b1x1+ b2x12+ b2x13+...... bnx1n**\n",
        "\n",
        "- It is also called the special case of Multiple Linear Regression in ML. Because we add some polynomial terms to the Multiple Linear regression equation to convert it into Polynomial Regression.\n",
        "- It is a linear model with some modification in order to increase the accuracy.\n",
        "The dataset used in Polynomial regression for training is of non-linear nature.\n",
        "- It makes use of a linear regression model to fit the complicated and non-linear functions and datasets.\n",
        "- Hence, \"In Polynomial regression, the original features are converted into Polynomial features of required degree (2,3,..,n) and then modeled using a linear model.\""
      ],
      "metadata": {
        "id": "RIXkbauBqxPM"
      }
    },
    {
      "cell_type": "markdown",
      "source": [
        "## **Need for Polynomial Regression:**\n",
        "The need of Polynomial Regression in ML can be understood in the below points:\n",
        "\n",
        "- If we apply a linear model on a linear dataset, then it provides us a good result as we have seen in Simple Linear Regression, but if we apply the same model without any modification on a non-linear dataset, then it will produce a drastic output. Due to which loss function will increase, the error rate will be high, and accuracy will be decreased.\n",
        "- So for such cases, where data points are arranged in a non-linear fashion, we need the Polynomial Regression model. We can understand it in a better way using the below comparison diagram of the linear dataset and non-linear dataset.\n",
        "ML Polynomial Regression\n",
        "<figure>\n",
        "<center>\n",
        "<img src='https://serokell.io/files/ka/kawer8rc.5_(5).png' />\n",
        "</center>\n",
        "</figure>\n",
        "- In the above image, we have taken a dataset which is arranged non-linearly. So if we try to cover it with a linear model, then we can clearly see that it hardly covers any data point. On the other hand, a curve is suitable to cover most of the data points, which is of the Polynomial model.\n",
        "- Hence, if the datasets are arranged in a non-linear fashion, then we should use the Polynomial Regression model instead of Simple Linear Regression."
      ],
      "metadata": {
        "id": "SDUaqv7trKPM"
      }
    },
    {
      "cell_type": "markdown",
      "source": [
        "## **Equation of the Polynomial Regression Model:**\n",
        "- Simple Linear Regression equation:         y = b0+b1x         .........(a)\n",
        "\n",
        "- Multiple Linear Regression equation:         y= b0+b1x+ b2x2+ b3x3+....+ bnxn         .........(b)\n",
        "\n",
        "- Polynomial Regression equation:         y= b0+b1x + b2x2+ b3x3+....+ bnxn         ..........(c)"
      ],
      "metadata": {
        "id": "U3W9NwNysuIJ"
      }
    },
    {
      "cell_type": "markdown",
      "source": [
        "## **Step 1: Import Libraries**"
      ],
      "metadata": {
        "id": "SFSsGOpUcTZj"
      }
    },
    {
      "cell_type": "code",
      "source": [
        "import numpy as np\n",
        "import pandas as pd \n",
        "import matplotlib.pyplot as plt\n",
        "import seaborn as sns"
      ],
      "metadata": {
        "id": "tetz76Zkcc0U"
      },
      "execution_count": 104,
      "outputs": []
    },
    {
      "cell_type": "markdown",
      "source": [
        "## **Step 2: Reading DATA**"
      ],
      "metadata": {
        "id": "bRzev0F3cs3N"
      }
    },
    {
      "cell_type": "code",
      "source": [
        "url=\"https://raw.githubusercontent.com/coderanandmaurya/Linear-Regression/main/Position_Salaries.csv\"\n",
        "data_set=pd.read_csv(url)"
      ],
      "metadata": {
        "id": "eUVRUqn_docZ"
      },
      "execution_count": 105,
      "outputs": []
    },
    {
      "cell_type": "code",
      "source": [
        "data_set.head()"
      ],
      "metadata": {
        "id": "hpFKoPaSk_N3",
        "outputId": "7aac3adb-dd8b-493e-fb9a-6788eac234a3",
        "colab": {
          "base_uri": "https://localhost:8080/",
          "height": 206
        }
      },
      "execution_count": 106,
      "outputs": [
        {
          "output_type": "execute_result",
          "data": {
            "text/plain": [
              "            Position  Level  Salary\n",
              "0   Business Analyst      1   45000\n",
              "1  Junior Consultant      2   50000\n",
              "2  Senior Consultant      3   60000\n",
              "3            Manager      4   80000\n",
              "4    Country Manager      5  110000"
            ],
            "text/html": [
              "\n",
              "  <div id=\"df-81fb08cf-2fc8-4d07-a029-396449e49207\">\n",
              "    <div class=\"colab-df-container\">\n",
              "      <div>\n",
              "<style scoped>\n",
              "    .dataframe tbody tr th:only-of-type {\n",
              "        vertical-align: middle;\n",
              "    }\n",
              "\n",
              "    .dataframe tbody tr th {\n",
              "        vertical-align: top;\n",
              "    }\n",
              "\n",
              "    .dataframe thead th {\n",
              "        text-align: right;\n",
              "    }\n",
              "</style>\n",
              "<table border=\"1\" class=\"dataframe\">\n",
              "  <thead>\n",
              "    <tr style=\"text-align: right;\">\n",
              "      <th></th>\n",
              "      <th>Position</th>\n",
              "      <th>Level</th>\n",
              "      <th>Salary</th>\n",
              "    </tr>\n",
              "  </thead>\n",
              "  <tbody>\n",
              "    <tr>\n",
              "      <th>0</th>\n",
              "      <td>Business Analyst</td>\n",
              "      <td>1</td>\n",
              "      <td>45000</td>\n",
              "    </tr>\n",
              "    <tr>\n",
              "      <th>1</th>\n",
              "      <td>Junior Consultant</td>\n",
              "      <td>2</td>\n",
              "      <td>50000</td>\n",
              "    </tr>\n",
              "    <tr>\n",
              "      <th>2</th>\n",
              "      <td>Senior Consultant</td>\n",
              "      <td>3</td>\n",
              "      <td>60000</td>\n",
              "    </tr>\n",
              "    <tr>\n",
              "      <th>3</th>\n",
              "      <td>Manager</td>\n",
              "      <td>4</td>\n",
              "      <td>80000</td>\n",
              "    </tr>\n",
              "    <tr>\n",
              "      <th>4</th>\n",
              "      <td>Country Manager</td>\n",
              "      <td>5</td>\n",
              "      <td>110000</td>\n",
              "    </tr>\n",
              "  </tbody>\n",
              "</table>\n",
              "</div>\n",
              "      <button class=\"colab-df-convert\" onclick=\"convertToInteractive('df-81fb08cf-2fc8-4d07-a029-396449e49207')\"\n",
              "              title=\"Convert this dataframe to an interactive table.\"\n",
              "              style=\"display:none;\">\n",
              "        \n",
              "  <svg xmlns=\"http://www.w3.org/2000/svg\" height=\"24px\"viewBox=\"0 0 24 24\"\n",
              "       width=\"24px\">\n",
              "    <path d=\"M0 0h24v24H0V0z\" fill=\"none\"/>\n",
              "    <path d=\"M18.56 5.44l.94 2.06.94-2.06 2.06-.94-2.06-.94-.94-2.06-.94 2.06-2.06.94zm-11 1L8.5 8.5l.94-2.06 2.06-.94-2.06-.94L8.5 2.5l-.94 2.06-2.06.94zm10 10l.94 2.06.94-2.06 2.06-.94-2.06-.94-.94-2.06-.94 2.06-2.06.94z\"/><path d=\"M17.41 7.96l-1.37-1.37c-.4-.4-.92-.59-1.43-.59-.52 0-1.04.2-1.43.59L10.3 9.45l-7.72 7.72c-.78.78-.78 2.05 0 2.83L4 21.41c.39.39.9.59 1.41.59.51 0 1.02-.2 1.41-.59l7.78-7.78 2.81-2.81c.8-.78.8-2.07 0-2.86zM5.41 20L4 18.59l7.72-7.72 1.47 1.35L5.41 20z\"/>\n",
              "  </svg>\n",
              "      </button>\n",
              "      \n",
              "  <style>\n",
              "    .colab-df-container {\n",
              "      display:flex;\n",
              "      flex-wrap:wrap;\n",
              "      gap: 12px;\n",
              "    }\n",
              "\n",
              "    .colab-df-convert {\n",
              "      background-color: #E8F0FE;\n",
              "      border: none;\n",
              "      border-radius: 50%;\n",
              "      cursor: pointer;\n",
              "      display: none;\n",
              "      fill: #1967D2;\n",
              "      height: 32px;\n",
              "      padding: 0 0 0 0;\n",
              "      width: 32px;\n",
              "    }\n",
              "\n",
              "    .colab-df-convert:hover {\n",
              "      background-color: #E2EBFA;\n",
              "      box-shadow: 0px 1px 2px rgba(60, 64, 67, 0.3), 0px 1px 3px 1px rgba(60, 64, 67, 0.15);\n",
              "      fill: #174EA6;\n",
              "    }\n",
              "\n",
              "    [theme=dark] .colab-df-convert {\n",
              "      background-color: #3B4455;\n",
              "      fill: #D2E3FC;\n",
              "    }\n",
              "\n",
              "    [theme=dark] .colab-df-convert:hover {\n",
              "      background-color: #434B5C;\n",
              "      box-shadow: 0px 1px 3px 1px rgba(0, 0, 0, 0.15);\n",
              "      filter: drop-shadow(0px 1px 2px rgba(0, 0, 0, 0.3));\n",
              "      fill: #FFFFFF;\n",
              "    }\n",
              "  </style>\n",
              "\n",
              "      <script>\n",
              "        const buttonEl =\n",
              "          document.querySelector('#df-81fb08cf-2fc8-4d07-a029-396449e49207 button.colab-df-convert');\n",
              "        buttonEl.style.display =\n",
              "          google.colab.kernel.accessAllowed ? 'block' : 'none';\n",
              "\n",
              "        async function convertToInteractive(key) {\n",
              "          const element = document.querySelector('#df-81fb08cf-2fc8-4d07-a029-396449e49207');\n",
              "          const dataTable =\n",
              "            await google.colab.kernel.invokeFunction('convertToInteractive',\n",
              "                                                     [key], {});\n",
              "          if (!dataTable) return;\n",
              "\n",
              "          const docLinkHtml = 'Like what you see? Visit the ' +\n",
              "            '<a target=\"_blank\" href=https://colab.research.google.com/notebooks/data_table.ipynb>data table notebook</a>'\n",
              "            + ' to learn more about interactive tables.';\n",
              "          element.innerHTML = '';\n",
              "          dataTable['output_type'] = 'display_data';\n",
              "          await google.colab.output.renderOutput(dataTable, element);\n",
              "          const docLink = document.createElement('div');\n",
              "          docLink.innerHTML = docLinkHtml;\n",
              "          element.appendChild(docLink);\n",
              "        }\n",
              "      </script>\n",
              "    </div>\n",
              "  </div>\n",
              "  "
            ]
          },
          "metadata": {},
          "execution_count": 106
        }
      ]
    },
    {
      "cell_type": "markdown",
      "source": [
        "## **Extracting Independent and dependent Variable**\n"
      ],
      "metadata": {
        "id": "4EjKSXM2tZBt"
      }
    },
    {
      "cell_type": "code",
      "source": [
        "x= data_set.iloc[:, 1:2].values  \n",
        "y= data_set.iloc[:, 2].values  "
      ],
      "metadata": {
        "id": "g59y092ijEOq"
      },
      "execution_count": 107,
      "outputs": []
    },
    {
      "cell_type": "markdown",
      "source": [
        "## **Model selection**\n",
        "- LR\n",
        "- PR "
      ],
      "metadata": {
        "id": "OdYK75sotzlP"
      }
    },
    {
      "cell_type": "markdown",
      "source": [
        "## **Linear Regression**"
      ],
      "metadata": {
        "id": "PShNv4kMu6AW"
      }
    },
    {
      "cell_type": "code",
      "source": [
        "from sklearn.linear_model import LinearRegression  \n",
        "lin_regs= LinearRegression()  \n",
        "lin_regs.fit(x,y)  "
      ],
      "metadata": {
        "colab": {
          "base_uri": "https://localhost:8080/"
        },
        "id": "aNl0GPTeiWwH",
        "outputId": "61577a40-d178-484a-9a6f-b90b9d184675"
      },
      "execution_count": 108,
      "outputs": [
        {
          "output_type": "execute_result",
          "data": {
            "text/plain": [
              "LinearRegression()"
            ]
          },
          "metadata": {},
          "execution_count": 108
        }
      ]
    },
    {
      "cell_type": "markdown",
      "source": [
        "### **Visulaizing the result**"
      ],
      "metadata": {
        "id": "VpXB4kaTvJj8"
      }
    },
    {
      "cell_type": "code",
      "source": [
        "plt.scatter(x,y,color=\"blue\")  \n",
        "plt.plot(x,lin_regs.predict(x), color=\"red\")  \n",
        "plt.title(\"Bluff detection model(Linear Regression)\")  \n",
        "plt.xlabel(\"Position Levels\")  \n",
        "plt.ylabel(\"Salary\")  \n",
        "plt.show()  "
      ],
      "metadata": {
        "id": "EHZdxtZAuDT2",
        "outputId": "3c0f18a7-59c3-48ac-94e6-ea07bb594185",
        "colab": {
          "base_uri": "https://localhost:8080/",
          "height": 295
        }
      },
      "execution_count": 109,
      "outputs": [
        {
          "output_type": "display_data",
          "data": {
            "text/plain": [
              "<Figure size 432x288 with 1 Axes>"
            ],
            "image/png": "[encoded data removed]"
          },
          "metadata": {
            "needs_background": "light"
          }
        }
      ]
    },
    {
      "cell_type": "code",
      "source": [
        "lin_pred = lin_regs.predict([[5]])  \n",
        "print(lin_pred)  "
      ],
      "metadata": {
        "id": "MCpdE8KuuiXF",
        "outputId": "0fae1767-e6b1-4910-d800-65774669a6e2",
        "colab": {
          "base_uri": "https://localhost:8080/"
        }
      },
      "execution_count": 110,
      "outputs": [
        {
          "output_type": "stream",
          "name": "stdout",
          "text": [
            "[209060.60606061]\n"
          ]
        }
      ]
    },
    {
      "cell_type": "markdown",
      "source": [
        "## **Polynomial regression**"
      ],
      "metadata": {
        "id": "9bAEAg6Xvcms"
      }
    },
    {
      "cell_type": "code",
      "source": [
        "from sklearn.preprocessing import PolynomialFeatures  \n",
        "poly_regs= PolynomialFeatures(degree= 2)  \n",
        "x_poly= poly_regs.fit_transform(x)  \n",
        "lin_reg_2 =LinearRegression()  \n",
        "lin_reg_2.fit(x_poly, y)  "
      ],
      "metadata": {
        "id": "kUCIkCXXt80u",
        "outputId": "0f2128f8-c322-4f95-82af-6a68222700b7",
        "colab": {
          "base_uri": "https://localhost:8080/"
        }
      },
      "execution_count": 111,
      "outputs": [
        {
          "output_type": "execute_result",
          "data": {
            "text/plain": [
              "LinearRegression()"
            ]
          },
          "metadata": {},
          "execution_count": 111
        }
      ]
    },
    {
      "cell_type": "markdown",
      "source": [
        "### **Visulaizing the result**"
      ],
      "metadata": {
        "id": "WOBdc3g3vkVM"
      }
    },
    {
      "cell_type": "code",
      "source": [
        "plt.scatter(x,y,color=\"blue\")  \n",
        "plt.plot(x, lin_reg_2.predict(poly_regs.fit_transform(x)), color=\"red\")  \n",
        "plt.title(\"Bluff detection model(Polynomial Regression)\")  \n",
        "plt.xlabel(\"Position Levels\")  \n",
        "plt.ylabel(\"Salary\")  \n",
        "plt.show()  "
      ],
      "metadata": {
        "id": "8yspMwGzuF21",
        "outputId": "7bc37fe4-acc4-44e5-bcf3-d936017197bf",
        "colab": {
          "base_uri": "https://localhost:8080/",
          "height": 295
        }
      },
      "execution_count": 112,
      "outputs": [
        {
          "output_type": "display_data",
          "data": {
            "text/plain": [
              "<Figure size 432x288 with 1 Axes>"
            ],
            "image/png": "[encoded data removed]"
          },
          "metadata": {
            "needs_background": "light"
          }
        }
      ]
    },
    {
      "cell_type": "markdown",
      "source": [
        "### **LET degree=4**"
      ],
      "metadata": {
        "id": "5aGAcQVfvoNs"
      }
    },
    {
      "cell_type": "code",
      "source": [
        " #Fitting the Polynomial regression to the dataset  \n",
        "from sklearn.preprocessing import PolynomialFeatures  \n",
        "poly_regs= PolynomialFeatures(degree= 4)  \n",
        "x_poly= poly_regs.fit_transform(x)  \n",
        "lin_reg_2 =LinearRegression()  \n",
        "lin_reg_2.fit(x_poly, y)  "
      ],
      "metadata": {
        "id": "5KODTV1puL4N",
        "outputId": "873b5d2f-9b4f-4cf4-edac-5072b83f2f60",
        "colab": {
          "base_uri": "https://localhost:8080/"
        }
      },
      "execution_count": 113,
      "outputs": [
        {
          "output_type": "execute_result",
          "data": {
            "text/plain": [
              "LinearRegression()"
            ]
          },
          "metadata": {},
          "execution_count": 113
        }
      ]
    },
    {
      "cell_type": "code",
      "source": [
        "#Visulaizing the result for Polynomial Regression  \n",
        "plt.scatter(x,y,color=\"blue\")  \n",
        "plt.plot(x, lin_reg_2.predict(poly_regs.fit_transform(x)), color=\"red\")  \n",
        "plt.title(\"Bluff detection model(Polynomial Regression)\")  \n",
        "plt.xlabel(\"Position Levels\")  \n",
        "plt.ylabel(\"Salary\")  \n",
        "plt.show()  "
      ],
      "metadata": {
        "id": "lEj6Y9p1uRs-",
        "outputId": "845789fb-0ffb-4543-fb97-3263b977d1cc",
        "colab": {
          "base_uri": "https://localhost:8080/",
          "height": 295
        }
      },
      "execution_count": 114,
      "outputs": [
        {
          "output_type": "display_data",
          "data": {
            "text/plain": [
              "<Figure size 432x288 with 1 Axes>"
            ],
            "image/png": "[encoded data removed]"
          },
          "metadata": {
            "needs_background": "light"
          }
        }
      ]
    },
    {
      "cell_type": "code",
      "source": [
        "poly_pred = lin_reg_2.predict(poly_regs.fit_transform([[5]]))  \n",
        "print(poly_pred)  "
      ],
      "metadata": {
        "id": "pvxDrcNtuSC0",
        "outputId": "d35efdff-5142-415a-9452-271d894f8a75",
        "colab": {
          "base_uri": "https://localhost:8080/"
        }
      },
      "execution_count": 115,
      "outputs": [
        {
          "output_type": "stream",
          "name": "stdout",
          "text": [
            "[121724.94172495]\n"
          ]
        }
      ]
    }
  ]
}